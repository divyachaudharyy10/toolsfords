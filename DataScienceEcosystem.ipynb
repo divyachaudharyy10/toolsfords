{
 "cells": [
  {
   "cell_type": "markdown",
   "id": "04265a51-28c1-4907-a6f8-24135e9ee365",
   "metadata": {},
   "source": [
    "# Data Science Tools and Ecosystem"
   ]
  },
  {
   "cell_type": "markdown",
   "id": "897ec985-882a-4de7-85b2-04a0599b700e",
   "metadata": {},
   "source": [
    "In this notebook, Data Science Tools and Ecosystem are summarized."
   ]
  },
  {
   "cell_type": "markdown",
   "id": "e9920566-3a01-4e59-b91e-b0ef26f03926",
   "metadata": {},
   "source": [
    "the most commonly used data science languages are:\n",
    "    1. SQL\n",
    "    2. python\n",
    "    3. R "
   ]
  },
  {
   "cell_type": "markdown",
   "id": "b6a8d1df-2fcc-48dd-80bc-1b0907a09988",
   "metadata": {},
   "source": [
    "Some of the commonly used libraries used by Data Scientists include:\n",
    "    1. NumPy\n",
    "2. SciPy\n",
    "3. Pandas"
   ]
  },
  {
   "cell_type": "markdown",
   "id": "4eaaafe1-c2c8-4558-95a6-e43ff47b2078",
   "metadata": {},
   "source": [
    "| Data Science Tools | \n",
    "| --- | \n",
    "| Apache Spark |\n",
    "| --- | \n",
    "TensorFlow |\n",
    "| --- | \n",
    "|Apache Hadoop | "
   ]
  },
  {
   "cell_type": "markdown",
   "id": "d4c116fa-366a-4f29-8d6e-37ac50190446",
   "metadata": {},
   "source": [
    "### Below are a few examples of evaluating arithmetic expressions in Python"
   ]
  },
  {
   "cell_type": "code",
   "execution_count": 2,
   "id": "e59bbf4b-1abd-4552-8e68-2647bd0d2f45",
   "metadata": {},
   "outputs": [
    {
     "data": {
      "text/plain": [
       "17"
      ]
     },
     "execution_count": 2,
     "metadata": {},
     "output_type": "execute_result"
    }
   ],
   "source": [
    "# This a simple arithmetic expression to mutiply then add integers\n",
    "(3*4)+5"
   ]
  },
  {
   "cell_type": "code",
   "execution_count": 3,
   "id": "24778ff3-a5e0-499b-b596-301a55ceb479",
   "metadata": {},
   "outputs": [
    {
     "data": {
      "text/plain": [
       "3.3333333333333335"
      ]
     },
     "execution_count": 3,
     "metadata": {},
     "output_type": "execute_result"
    }
   ],
   "source": [
    "# This will convert 200 minutes to hours by diving by 60.\n",
    "200/60"
   ]
  },
  {
   "cell_type": "markdown",
   "id": "5a33ee69-aac1-4873-b52e-8f4eb866ea75",
   "metadata": {},
   "source": [
    "**Objectives:**\n",
    "\n",
    "* popular languages in data science\n",
    "* libraries in data science \n",
    "* git and github"
   ]
  },
  {
   "cell_type": "markdown",
   "id": "1aac24b6-f001-4230-befb-b116d3f4bec8",
   "metadata": {},
   "source": [
    "## author\n",
    "divya"
   ]
  },
  {
   "cell_type": "code",
   "execution_count": null,
   "id": "7cf2c470-014f-49cb-bece-04eeb24eb8da",
   "metadata": {},
   "outputs": [],
   "source": []
  }
 ],
 "metadata": {
  "kernelspec": {
   "display_name": "anaconda-panel-2023.05-py310",
   "language": "python",
   "name": "conda-env-anaconda-panel-2023.05-py310-py"
  },
  "language_info": {
   "codemirror_mode": {
    "name": "ipython",
    "version": 3
   },
   "file_extension": ".py",
   "mimetype": "text/x-python",
   "name": "python",
   "nbconvert_exporter": "python",
   "pygments_lexer": "ipython3",
   "version": "3.11.3"
  }
 },
 "nbformat": 4,
 "nbformat_minor": 5
}
